{
  "nbformat": 4,
  "nbformat_minor": 0,
  "metadata": {
    "colab": {
      "provenance": []
    },
    "kernelspec": {
      "name": "python3",
      "display_name": "Python 3"
    },
    "language_info": {
      "name": "python"
    }
  },
  "cells": [
    {
      "cell_type": "code",
      "execution_count": null,
      "metadata": {
        "id": "cueWNSoMHylr"
      },
      "outputs": [],
      "source": []
    },
    {
      "cell_type": "code",
      "source": [
        "#Q1. Which keyword is used to create a function? Create a function to return a list of odd numbers in the range of 1 to 25.\n",
        "def odd(*a):\n",
        "    l1 = []\n",
        "    for i in a:\n",
        "        if i%2 !=0:\n",
        "            l1.append(i)\n",
        "    return l1\n",
        "print(\"List of numbers :\",end = \"\")\n",
        "a =list(range(1,25))\n",
        "print(a)\n",
        "print(\"List of Odd numbers :\",odd(*a))"
      ],
      "metadata": {
        "colab": {
          "base_uri": "https://localhost:8080/"
        },
        "id": "EC_hfSbLH-vz",
        "outputId": "640c8e0f-f565-4e57-ef8a-6f928afe7a9d"
      },
      "execution_count": null,
      "outputs": [
        {
          "output_type": "stream",
          "name": "stdout",
          "text": [
            "List of numbers :[1, 2, 3, 4, 5, 6, 7, 8, 9, 10, 11, 12, 13, 14, 15, 16, 17, 18, 19, 20, 21, 22, 23, 24]\n",
            "List of Odd numbers : [1, 3, 5, 7, 9, 11, 13, 15, 17, 19, 21, 23]\n"
          ]
        }
      ]
    },
    {
      "cell_type": "code",
      "source": [
        "\"\"\"Q2. Why *args and **kwargs is used in some functions? Create a function each for *args and **kwargs\n",
        "to demonstrate their use.\n",
        "Answere- You can use *args and **kwargs as arguments of a function when you are unsure about the number of arguments to pass in the functions\"\"\"\n",
        "def add(*args):\n",
        "  sum = 0\n",
        "  for i in a:\n",
        "    sum = sum +i\n",
        "  return sum\n",
        "add(5,8,15,54)\n",
        "def dic(**kargs):\n",
        "  for key, value in kargs.items():\n",
        "    print(\"{} is {}\".format(key,value))\n",
        "\n",
        "dic(Class=\"5\",roll_no =44, Name =\"Amit\")\n",
        "\n",
        "   \n"
      ],
      "metadata": {
        "colab": {
          "base_uri": "https://localhost:8080/"
        },
        "id": "55EnzqIcIMyp",
        "outputId": "f3a1c317-85a1-433a-891b-ec2c21328f5a"
      },
      "execution_count": null,
      "outputs": [
        {
          "output_type": "stream",
          "name": "stdout",
          "text": [
            "Class is 5\n",
            "roll_no is 44\n",
            "Name is Amit\n"
          ]
        }
      ]
    },
    {
      "cell_type": "code",
      "source": [
        "'''Q3. What is an iterator in python? Name the method used to initialise the iterator object and the method used for iteration. Use these\n",
        " methods to print the first five elements of the given list [2, 4, 6, 8, 10, 12, 14, 16, 18, 20].\n",
        "Answere :- An iterator is an object that contains a countable number of values. An iterator is an object that can be iterated upon, meaning \n",
        "that you can traverse through all the values. Technically, in Python, an iterator is an object which implements the iterator protocol, which\n",
        " consist of the methods __iter__() and __next__().Instantiating the Iterator in Python Iter() method is used to initialize the iterator object\n",
        "so that the instance of this object can be used for iterating'''\n",
        "#Use these methods to print the first five elements of the given list [2, 4, 6, 8, 10, 12, 14, 16, 18, 20].\n",
        "l1 = [2,4,6,8,10,12,14,16,18,20]\n",
        "x = iter(l1)\n",
        "print(next(x))\n",
        "print(next(x))\n",
        "print(next(x))\n",
        "print(next(x))\n",
        "print(next(x))\n"
      ],
      "metadata": {
        "colab": {
          "base_uri": "https://localhost:8080/"
        },
        "id": "6WMcKRYXKbiB",
        "outputId": "1459695f-40db-429d-bdc6-ff434d0b3b4b"
      },
      "execution_count": null,
      "outputs": [
        {
          "output_type": "stream",
          "name": "stdout",
          "text": [
            "2\n",
            "4\n",
            "6\n",
            "8\n",
            "10\n"
          ]
        }
      ]
    },
    {
      "cell_type": "code",
      "source": [
        "'''Q4. What is a generator function in python? Why yield keyword is used? Give an example of a generator\n",
        "function.\n",
        "Answere :- Generator function - a generator is a function that returns an iterator that produces a sequence of values when iterated over\n",
        ". Generators are useful when we want to produce a large sequence of values, but we don't want to store all of them in memory at once\n",
        " yield :-  the yield keyword will convert an expression that is specified along with it to a generator object and return it to the caller.\n",
        "  Hence, if you want to get the values stored inside the generator object, you need to iterate over it'''\n",
        "# Example of Generator function\n",
        "def simpleGeneratorFun():\n",
        "    yield 1           \n",
        "    yield 2           \n",
        "    yield 3           \n",
        "for value in simpleGeneratorFun():\n",
        "    print(value)\n"
      ],
      "metadata": {
        "colab": {
          "base_uri": "https://localhost:8080/"
        },
        "id": "RtGRYmbeP1wx",
        "outputId": "c77f45ee-fe48-4ea8-b34c-b32e093acbca"
      },
      "execution_count": null,
      "outputs": [
        {
          "output_type": "stream",
          "name": "stdout",
          "text": [
            "1\n",
            "2\n",
            "3\n"
          ]
        }
      ]
    },
    {
      "cell_type": "code",
      "source": [
        "#Q5. Create a generator function for prime numbers less than 1000. Use the next() method to print the first 20 prime numbers.\n",
        "import math\n",
        "def Prime_upto():\n",
        "  N=1000\n",
        "  i=2  \n",
        "  while i <= N and i <=3:\n",
        "    yield i\n",
        "    i=i+1\n",
        "      \n",
        "  for i in range(4, N):\n",
        "    flag=1\n",
        "    for j in range(2,math.floor(math.sqrt(i))+1):\n",
        "      if i%j ==0:\n",
        "        flag=0\n",
        "        break\n",
        "    if flag:\n",
        "      yield i\n",
        "       \n",
        "primes = Prime_upto()\n",
        "\n",
        "for i in range(20):\n",
        "  print(next(primes))"
      ],
      "metadata": {
        "colab": {
          "base_uri": "https://localhost:8080/"
        },
        "id": "olv_hnsqQXK0",
        "outputId": "2c934540-9ebc-4ba1-98c6-3d7e4194606c"
      },
      "execution_count": 24,
      "outputs": [
        {
          "output_type": "stream",
          "name": "stdout",
          "text": [
            "2\n",
            "3\n",
            "5\n",
            "7\n",
            "11\n",
            "13\n",
            "17\n",
            "19\n",
            "23\n",
            "29\n",
            "31\n",
            "37\n",
            "41\n",
            "43\n",
            "47\n",
            "53\n",
            "59\n",
            "61\n",
            "67\n",
            "71\n"
          ]
        }
      ]
    },
    {
      "cell_type": "code",
      "source": [],
      "metadata": {
        "id": "NzDcJZDTRTFY"
      },
      "execution_count": null,
      "outputs": []
    },
    {
      "cell_type": "code",
      "source": [
        "#Q6. Write a python program to print the first 10 Fibonacci numbers using a while loop.\n",
        "\n",
        "number = int(input(\"Enter the number of terms in fibonacci number: \"))\n",
        "count = 0\n",
        "a = 0\n",
        "b = 1\n",
        "while count<number:\n",
        "    print(a)\n",
        "    c = a+b\n",
        "    a = b\n",
        "    b = c\n",
        "    count +=1\n",
        "\n",
        "\n"
      ],
      "metadata": {
        "colab": {
          "base_uri": "https://localhost:8080/"
        },
        "id": "Am6V9Ar8Qo57",
        "outputId": "2e2a3867-99bb-4165-d3ae-07f05d678cf5"
      },
      "execution_count": 25,
      "outputs": [
        {
          "output_type": "stream",
          "name": "stdout",
          "text": [
            "Enter the number of terms in fibonacci number: 5\n",
            "0\n",
            "1\n",
            "1\n",
            "2\n",
            "3\n"
          ]
        }
      ]
    },
    {
      "cell_type": "code",
      "source": [
        "#Q7. Write a List Comprehension to iterate through the given string: ‘pwskills’. Expected output: ['p', 'w', 's', 'k', 'i', 'l', 'l', 's']\n",
        "a = \"pwskills\"\n",
        "[i for i in a]"
      ],
      "metadata": {
        "colab": {
          "base_uri": "https://localhost:8080/"
        },
        "id": "xPe62bYFRUcg",
        "outputId": "75f66f82-4a03-4b0e-bbde-68241d51baa5"
      },
      "execution_count": null,
      "outputs": [
        {
          "output_type": "execute_result",
          "data": {
            "text/plain": [
              "['p', 'w', 's', 'k', 'i', 'l', 'l', 's']"
            ]
          },
          "metadata": {},
          "execution_count": 21
        }
      ]
    },
    {
      "cell_type": "code",
      "source": [
        "#Q8. Write a python program to check whether a given number is Palindrome or not using a while loop.\n",
        "n = input(\"Enter the String for Checking of Palindrome: \")\n",
        "flag =0\n",
        "for i in range(int(len(n)/2)+1):\n",
        "  if (n[i] != n[len(n)-i-1]):\n",
        "    flag =1\n",
        "    break\n",
        "if flag ==1:\n",
        "  print(\"This is not a Palindrome\")\n",
        "else :\n",
        "  print(\"This is Palindrome\")\n",
        "\n"
      ],
      "metadata": {
        "id": "FOlBXZWZSiIl",
        "colab": {
          "base_uri": "https://localhost:8080/"
        },
        "outputId": "da6c19b5-514c-4c25-8a4f-d46748d52e19"
      },
      "execution_count": 53,
      "outputs": [
        {
          "output_type": "stream",
          "name": "stdout",
          "text": [
            "Enter the String for Checking of Palindrome: 25477452\n",
            "This is Palindrome\n"
          ]
        }
      ]
    },
    {
      "cell_type": "code",
      "source": [
        "#Q9. Write a code to print odd numbers from 1 to 100 using list comprehension.\n",
        "l1 = [i for i in range(101)]\n",
        "l2 = [i for i in l1 if i%2 !=0 ]\n",
        "l2"
      ],
      "metadata": {
        "colab": {
          "base_uri": "https://localhost:8080/"
        },
        "id": "WJvqZxhXRB8x",
        "outputId": "ec01f943-4b05-4610-dc3e-fc4763e94972"
      },
      "execution_count": 51,
      "outputs": [
        {
          "output_type": "execute_result",
          "data": {
            "text/plain": [
              "[1,\n",
              " 3,\n",
              " 5,\n",
              " 7,\n",
              " 9,\n",
              " 11,\n",
              " 13,\n",
              " 15,\n",
              " 17,\n",
              " 19,\n",
              " 21,\n",
              " 23,\n",
              " 25,\n",
              " 27,\n",
              " 29,\n",
              " 31,\n",
              " 33,\n",
              " 35,\n",
              " 37,\n",
              " 39,\n",
              " 41,\n",
              " 43,\n",
              " 45,\n",
              " 47,\n",
              " 49,\n",
              " 51,\n",
              " 53,\n",
              " 55,\n",
              " 57,\n",
              " 59,\n",
              " 61,\n",
              " 63,\n",
              " 65,\n",
              " 67,\n",
              " 69,\n",
              " 71,\n",
              " 73,\n",
              " 75,\n",
              " 77,\n",
              " 79,\n",
              " 81,\n",
              " 83,\n",
              " 85,\n",
              " 87,\n",
              " 89,\n",
              " 91,\n",
              " 93,\n",
              " 95,\n",
              " 97,\n",
              " 99]"
            ]
          },
          "metadata": {},
          "execution_count": 51
        }
      ]
    },
    {
      "cell_type": "code",
      "source": [
        "l"
      ],
      "metadata": {
        "id": "97k9272KeIGJ"
      },
      "execution_count": null,
      "outputs": []
    }
  ]
}